{
 "cells": [
  {
   "cell_type": "markdown",
   "metadata": {},
   "source": [
    "# Part 2. Deep Learning Frameworks"
   ]
  },
  {
   "cell_type": "markdown",
   "metadata": {},
   "source": [
    "Before we go into deep learning modelling, we will first need to have a quick familiarisation with a deep learning framework. We recommend __[Keras](https://keras.io)__, which is built on top of Tensorflow, but alternatively, you can consider __[PyTorch](https://pytorch.org)__. Resources are abundant online on how to use them, but here are some official guides to get you started:\n",
    "- PyTorch has a [60 Minute Blitz Guide](https://pytorch.org/tutorials/beginner/blitz/tensor_tutorial.html)\n",
    "- Tensorflow has an [Intro to Keras guide](https://www.tensorflow.org/guide/keras)\n",
    "\n",
    "A few words on the difference between Keras and PyTorch - Keras is a high level wrapper on top of Google's Tensorflow, the most popular deep learning framework out there. Being more low level, Tensorflow faces many issues and troubles, which are addressed by the abstractions of Keras, making it a great way to start. Facebook's PyTorch on the other hand is a newcomer which has received massive interest in recent years, and is playing catch up to Tensorflow/Keras.\n",
    "\n",
    "If you are more interested in how deep learning software has evolved since the days of Caffe and Theano as well as more in depth into what is happening in the software behind the scenes, we also recommend a [full lecture from Stanford](https://www.youtube.com/watch?v=6SlgtELqOWc) on this topic, although this is extra knowledge that isn't fully critical to this week."
   ]
  },
  {
   "cell_type": "markdown",
   "metadata": {},
   "source": [
    "Base on the tutorials you go through, you should be ready to build a 2 (or more) layer Multi-Level Perceptron (MLP) with deep learning. With the dataset you have prepared your machine learning model in the previous section, run your data through a MLP model with `Dense` (`Linear`) layers instead. Do some slight model adjustments, and discuss what kind of adjustments lead to improvements in score."
   ]
  },
  {
   "cell_type": "markdown",
   "metadata": {},
   "source": [
    "## Keras"
   ]
  },
  {
   "cell_type": "code",
   "execution_count": 1,
   "metadata": {},
   "outputs": [
    {
     "name": "stderr",
     "output_type": "stream",
     "text": [
      "C:\\Users\\LENOVO\\Anaconda3\\lib\\site-packages\\h5py\\__init__.py:36: FutureWarning: Conversion of the second argument of issubdtype from `float` to `np.floating` is deprecated. In future, it will be treated as `np.float64 == np.dtype(float).type`.\n",
      "  from ._conv import register_converters as _register_converters\n",
      "Using TensorFlow backend.\n"
     ]
    }
   ],
   "source": [
    "#For reproducibility\n",
    "import numpy as np\n",
    "import tensorflow as tf\n",
    "import random\n",
    "import os\n",
    "\n",
    "os.environ['PYTHONHASHSEED'] = '0'\n",
    "np.random.seed(5242)\n",
    "random.seed(5242)\n",
    "session_conf = tf.ConfigProto(intra_op_parallelism_threads=1, inter_op_parallelism_threads=1)\n",
    "\n",
    "from keras import backend as K\n",
    "tf.set_random_seed(5242)\n",
    "sess = tf.Session(graph=tf.get_default_graph(), config=session_conf)\n",
    "K.set_session(sess)"
   ]
  },
  {
   "cell_type": "code",
   "execution_count": 2,
   "metadata": {},
   "outputs": [],
   "source": [
    "import numpy as np\n",
    "import pickle\n",
    "def unpickle(file):\n",
    "    with open(file, 'rb') as fo:\n",
    "        dict = pickle.load(fo, encoding='bytes')\n",
    "    return dict\n",
    "\n",
    "batch1 = unpickle('cifar-10-batches-py/data_batch_1')\n",
    "batch2 = unpickle('cifar-10-batches-py/data_batch_2')\n",
    "batch3 = unpickle('cifar-10-batches-py/data_batch_3')\n",
    "batch4 = unpickle('cifar-10-batches-py/data_batch_4')\n",
    "batch5 = unpickle('cifar-10-batches-py/data_batch_5')\n",
    "\n",
    "train_val = np.concatenate([batch1[b'data'],batch2[b'data'],batch3[b'data'],batch4[b'data'],batch5[b'data']],axis=0)\n",
    "train_val_labels = batch1[b'labels']+batch2[b'labels']+batch3[b'labels']+batch4[b'labels']+batch5[b'labels']\n",
    "\n",
    "from sklearn.model_selection import train_test_split\n",
    "x_train, x_val, y_train, y_val = train_test_split(train_val, train_val_labels, test_size=0.2, random_state=42)\n",
    "\n",
    "testset = unpickle('cifar-10-batches-py/test_batch')\n",
    "x_test = testset[b'data']\n",
    "y_test = testset[b'labels']\n",
    "\n",
    "x_train = (x_train/255).astype('float32')\n",
    "x_val = (x_val/255).astype('float32')\n",
    "x_test = (x_test/255).astype('float32')"
   ]
  },
  {
   "cell_type": "markdown",
   "metadata": {},
   "source": [
    "## 1. Data transformations/preprocessing\n",
    "\n",
    "Most neural networks expect the images of a fixed size. Therefore, you will need to write some prepocessing code. At the basic level, you will need to normalise the data. Use the appropriate data generator/loader methods to encapsulate your data for training purposes. Do the same for both the train and test (and val, if exist) sets."
   ]
  },
  {
   "cell_type": "code",
   "execution_count": 3,
   "metadata": {
    "scrolled": true
   },
   "outputs": [],
   "source": [
    "from keras.utils import to_categorical\n",
    "\n",
    "# def generator(X_data, y_data, batch_size):\n",
    "\n",
    "#     samples_per_epoch = X_data.shape[0]\n",
    "#     number_of_batches = samples_per_epoch/batch_size\n",
    "#     counter=0\n",
    "\n",
    "#     while 1:\n",
    "#         y_data = to_categorical(y_data,10,'float32')\n",
    "#         X_data = X_data/255\n",
    "#         X_batch = np.array(X_data[batch_size*counter:batch_size*(counter+1)]).astype('float32')\n",
    "#         y_batch = np.array(y_data[batch_size*counter:batch_size*(counter+1)]).astype('float32')\n",
    "#         counter += 1\n",
    "#         yield X_batch,y_batch\n",
    "\n",
    "#     #restart counter to yield data in the next epoch as well\n",
    "#     if counter <= number_of_batches:\n",
    "#         counter = 0\n",
    "\n",
    "y_train = to_categorical(y_train,10,'float32')\n",
    "y_val = to_categorical(y_val,10,'float32')\n",
    "y_test = to_categorical(y_test,10,'float32')"
   ]
  },
  {
   "cell_type": "markdown",
   "metadata": {},
   "source": [
    "## 2.  Build multi-layer perceptron neural network models with Keras \n",
    "\n",
    "The Keras Python library for deep learning focuses on the creation of models as a sequence of layers.\n",
    "\n",
    "In here, you will discover the simple components that you can use to create neural networks and simple deep learning models using Keras."
   ]
  },
  {
   "cell_type": "code",
   "execution_count": 4,
   "metadata": {},
   "outputs": [],
   "source": [
    "from keras.models import Sequential\n",
    "from keras.layers import Activation,Dense\n",
    "\n",
    "Initializer = 'he_normal'\n",
    "activation = Activation('relu')\n",
    "\n",
    "model1 = Sequential()\n",
    "\n",
    "model1.add(Dense(2056,kernel_initializer=Initializer,input_dim=3072))\n",
    "model1.add(activation)\n",
    "\n",
    "model1.add(Dense(10,kernel_initializer=Initializer))\n",
    "model1.add(Activation('softmax'))"
   ]
  },
  {
   "cell_type": "markdown",
   "metadata": {},
   "source": [
    "## 3. Train the MLP network in CIFAR-10\n",
    "\n",
    "The main objective is to train the MLP network to achieve a balance between the ability to respond correctly to the input patterns that are used for training and the ability to provide good response to the input that is similar. Use the stochastic gradient descent optimiser with an appropriate learning rate between 1e-2 and 1e-3. Report your evaluation loss and accuracy, and you can also consider doing things like early stopping to prevent overfitting and achieve the best model."
   ]
  },
  {
   "cell_type": "code",
   "execution_count": 5,
   "metadata": {},
   "outputs": [],
   "source": [
    "from keras import metrics\n",
    "from keras.optimizers import SGD\n",
    "\n",
    "sgd = SGD(lr=0.01, decay=5e-4, momentum=0.9, nesterov=True)\n",
    "\n",
    "model1.compile(loss='categorical_crossentropy',\n",
    "              optimizer=sgd,\n",
    "              metrics = ['accuracy'])"
   ]
  },
  {
   "cell_type": "code",
   "execution_count": 6,
   "metadata": {
    "scrolled": true
   },
   "outputs": [
    {
     "name": "stdout",
     "output_type": "stream",
     "text": [
      "Train on 40000 samples, validate on 10000 samples\n",
      "Epoch 1/30\n",
      "40000/40000 [==============================] - 99s 2ms/step - loss: 1.7656 - acc: 0.3741 - val_loss: 1.6172 - val_acc: 0.4336\n",
      "Epoch 2/30\n",
      "40000/40000 [==============================] - 97s 2ms/step - loss: 1.5774 - acc: 0.4444 - val_loss: 1.5732 - val_acc: 0.4395\n",
      "Epoch 3/30\n",
      "40000/40000 [==============================] - 96s 2ms/step - loss: 1.4907 - acc: 0.4777 - val_loss: 1.5281 - val_acc: 0.4587\n",
      "Epoch 4/30\n",
      "40000/40000 [==============================] - 99s 2ms/step - loss: 1.4263 - acc: 0.4973 - val_loss: 1.4723 - val_acc: 0.4786\n",
      "Epoch 5/30\n",
      "40000/40000 [==============================] - 90s 2ms/step - loss: 1.3751 - acc: 0.5202 - val_loss: 1.4539 - val_acc: 0.4899\n",
      "Epoch 6/30\n",
      "40000/40000 [==============================] - 96s 2ms/step - loss: 1.3305 - acc: 0.5372 - val_loss: 1.4145 - val_acc: 0.5014\n",
      "Epoch 7/30\n",
      "40000/40000 [==============================] - 96s 2ms/step - loss: 1.2951 - acc: 0.5481 - val_loss: 1.4070 - val_acc: 0.5077\n",
      "Epoch 8/30\n",
      "40000/40000 [==============================] - 94s 2ms/step - loss: 1.2612 - acc: 0.5596 - val_loss: 1.3994 - val_acc: 0.5104\n",
      "Epoch 9/30\n",
      "40000/40000 [==============================] - 95s 2ms/step - loss: 1.2286 - acc: 0.5732 - val_loss: 1.3953 - val_acc: 0.5131\n",
      "Epoch 10/30\n",
      "40000/40000 [==============================] - 93s 2ms/step - loss: 1.2020 - acc: 0.5807 - val_loss: 1.3685 - val_acc: 0.5214\n",
      "Epoch 11/30\n",
      "40000/40000 [==============================] - 95s 2ms/step - loss: 1.1782 - acc: 0.5911 - val_loss: 1.3655 - val_acc: 0.5220\n",
      "Epoch 12/30\n",
      "40000/40000 [==============================] - 102s 3ms/step - loss: 1.1525 - acc: 0.6017 - val_loss: 1.3643 - val_acc: 0.5242\n",
      "Epoch 13/30\n",
      "40000/40000 [==============================] - 98s 2ms/step - loss: 1.1313 - acc: 0.6104 - val_loss: 1.3461 - val_acc: 0.5261\n",
      "Epoch 14/30\n",
      "40000/40000 [==============================] - 94s 2ms/step - loss: 1.1088 - acc: 0.6185 - val_loss: 1.3607 - val_acc: 0.5283\n",
      "Epoch 15/30\n",
      "40000/40000 [==============================] - 97s 2ms/step - loss: 1.0909 - acc: 0.6250 - val_loss: 1.3487 - val_acc: 0.5288\n",
      "Epoch 16/30\n",
      "40000/40000 [==============================] - 93s 2ms/step - loss: 1.0708 - acc: 0.6334 - val_loss: 1.3565 - val_acc: 0.5271\n",
      "Epoch 17/30\n",
      "40000/40000 [==============================] - 100s 3ms/step - loss: 1.0546 - acc: 0.6383 - val_loss: 1.3228 - val_acc: 0.5435\n",
      "Epoch 18/30\n",
      "40000/40000 [==============================] - 102s 3ms/step - loss: 1.0366 - acc: 0.6444 - val_loss: 1.3374 - val_acc: 0.5405\n",
      "Epoch 19/30\n",
      "40000/40000 [==============================] - 95s 2ms/step - loss: 1.0202 - acc: 0.6542 - val_loss: 1.3383 - val_acc: 0.5379\n",
      "Epoch 20/30\n",
      "40000/40000 [==============================] - 94s 2ms/step - loss: 1.0053 - acc: 0.6602 - val_loss: 1.3267 - val_acc: 0.5400\n",
      "Epoch 21/30\n",
      "40000/40000 [==============================] - 96s 2ms/step - loss: 0.9899 - acc: 0.6645 - val_loss: 1.3234 - val_acc: 0.5414\n",
      "Epoch 22/30\n",
      "40000/40000 [==============================] - 98s 2ms/step - loss: 0.9765 - acc: 0.6711 - val_loss: 1.3127 - val_acc: 0.5448\n",
      "Epoch 23/30\n",
      "40000/40000 [==============================] - 96s 2ms/step - loss: 0.9632 - acc: 0.6766 - val_loss: 1.3230 - val_acc: 0.5466\n",
      "Epoch 24/30\n",
      "40000/40000 [==============================] - 97s 2ms/step - loss: 0.9492 - acc: 0.6819 - val_loss: 1.3168 - val_acc: 0.5440\n",
      "Epoch 25/30\n",
      "40000/40000 [==============================] - 100s 3ms/step - loss: 0.9358 - acc: 0.6859 - val_loss: 1.3029 - val_acc: 0.5468\n",
      "Epoch 26/30\n",
      "40000/40000 [==============================] - 103s 3ms/step - loss: 0.9228 - acc: 0.6913 - val_loss: 1.3142 - val_acc: 0.5469\n",
      "Epoch 27/30\n",
      "40000/40000 [==============================] - 96s 2ms/step - loss: 0.9116 - acc: 0.6955 - val_loss: 1.3071 - val_acc: 0.5491\n",
      "Epoch 28/30\n",
      "40000/40000 [==============================] - 92s 2ms/step - loss: 0.8998 - acc: 0.6998 - val_loss: 1.3106 - val_acc: 0.5490\n",
      "Epoch 29/30\n",
      "40000/40000 [==============================] - 92s 2ms/step - loss: 0.8891 - acc: 0.7033 - val_loss: 1.3014 - val_acc: 0.5542\n",
      "Epoch 30/30\n",
      "40000/40000 [==============================] - 97s 2ms/step - loss: 0.8783 - acc: 0.7082 - val_loss: 1.3125 - val_acc: 0.5465\n"
     ]
    }
   ],
   "source": [
    "from keras.callbacks import Callback\n",
    "from keras.callbacks import EarlyStopping\n",
    "\n",
    "#early stopping\n",
    "early_stop = EarlyStopping(monitor= 'val_acc', min_delta = 0.0001, patience=5, mode='max')\n",
    "\n",
    "#model_fit\n",
    "# batch_size = 32\n",
    "# modelfit = model1.fit_generator(\n",
    "#         generator(x_train,y_train,batch_size),\n",
    "#         epochs=20,\n",
    "#         steps_per_epoch = x_train.shape[0]/batch_size,\n",
    "#         verbose=1,\n",
    "#         validation_data = generator(x_val,y_val,batch_size),\n",
    "#         validation_steps = x_val.shape[0]/batch_size,\n",
    "#         callbacks=[early_stop] \n",
    "#         )\n",
    "\n",
    "modelfit = model1.fit(\n",
    "        x_train,\n",
    "        y_train,\n",
    "        batch_size=64,\n",
    "        epochs=30,\n",
    "        verbose=1,\n",
    "        validation_data = (x_val,y_val)\n",
    "        ,callbacks=[early_stop] \n",
    "        )"
   ]
  },
  {
   "cell_type": "code",
   "execution_count": 8,
   "metadata": {
    "scrolled": true
   },
   "outputs": [
    {
     "name": "stdout",
     "output_type": "stream",
     "text": [
      "10000/10000 [==============================] - 7s 708us/step\n"
     ]
    },
    {
     "data": {
      "text/plain": [
       "[1.3100828203201293, 0.5457]"
      ]
     },
     "execution_count": 8,
     "metadata": {},
     "output_type": "execute_result"
    }
   ],
   "source": [
    "#model1.save('mlp/mlp_best.h5')\n",
    "eval1 = model1.evaluate(x_test,y_test)\n",
    "eval1"
   ]
  },
  {
   "cell_type": "code",
   "execution_count": 8,
   "metadata": {
    "scrolled": true
   },
   "outputs": [],
   "source": [
    "import pandas as pd\n",
    "trainloss = pd.DataFrame(modelfit.history['loss'])\n",
    "trainacc = pd.DataFrame(modelfit.history['acc'])\n",
    "valloss = pd.DataFrame(modelfit.history['val_loss'])\n",
    "valacc = pd.DataFrame(modelfit.history['val_acc'])\n",
    "\n",
    "summary = pd.concat([trainloss,trainacc,valloss,valacc],axis=1)\n",
    "summary.columns = [\"train loss\",\"train acc\",\"val loss\",\"val acc\"]\n",
    "summary.to_csv(\"mlp/mlp_1024_pred5381_loss131825.csv\",index = False, header= True)"
   ]
  },
  {
   "cell_type": "code",
   "execution_count": 26,
   "metadata": {},
   "outputs": [
    {
     "data": {
      "image/png": "[encoded data removed]",
      "text/plain": [
       "<Figure size 1080x504 with 2 Axes>"
      ]
     },
     "metadata": {
      "needs_background": "light"
     },
     "output_type": "display_data"
    }
   ],
   "source": [
    "sum1 = pd.DataFrame([[0.4647,0.5332,0.5381,0.5457,0.5422],[1.51286,1.34147,1.31825,1.31008,1.31579]]).T\n",
    "sum1.index = [64,512,1024,2056,3072]\n",
    "sum1.columns = ['Accuracy','Loss']\n",
    "import matplotlib.pyplot as plt\n",
    "%matplotlib inline\n",
    "\n",
    "f, ax = plt.subplots(1,2,figsize=(15, 7))\n",
    "ax[0].plot(sum1.index,sum1['Accuracy'])\n",
    "x_axis = ax[0].set_xlabel('No. of Hidden Units')\n",
    "y_axis = ax[0].set_ylabel('Accuracy')\n",
    "\n",
    "ax[1].plot(sum1.index,sum1['Loss'])\n",
    "x_axis = ax[1].set_xlabel('No. of Hidden Units')\n",
    "y_axis = ax[1].set_ylabel('Loss')\n",
    "\n",
    "plt.show()"
   ]
  },
  {
   "cell_type": "markdown",
   "metadata": {},
   "source": [
    "<span style=\"color:#003366\"><b> The universal approximation theorem states that a feed-forward neural network model with a single hidden layer can learn all sorts of complex patterns as long as there is sufficient hidden units and it is trained long enough with optimized parameters. Testing the universal approximation theorem with a simple MLP model using 2 layers, test performance improves with the number of units in the hidden layer until 2056 units. As the number of hidden units increase beyond that, the model complexity increases and high model variance tend to dominate the mdoel performance(overfitting). "
   ]
  },
  {
   "cell_type": "code",
   "execution_count": 2,
   "metadata": {},
   "outputs": [
    {
     "data": {
      "image/png": "[encoded data removed]",
      "text/plain": [
       "<Figure size 1080x504 with 2 Axes>"
      ]
     },
     "metadata": {
      "needs_background": "light"
     },
     "output_type": "display_data"
    }
   ],
   "source": [
    "import pandas as pd\n",
    "mlp2056 = pd.read_csv('mlp/mlp_2056_pred5457_loss131008.csv')\n",
    "\n",
    "import matplotlib.pyplot as plt\n",
    "%matplotlib inline\n",
    "\n",
    "f, ax = plt.subplots(1,2,figsize=(15, 7))\n",
    "ax[0].plot(mlp2056.index+1,mlp2056['train acc'],label='Train Accuracy')\n",
    "ax[0].plot(mlp2056.index+1,mlp2056['val acc'],label='Val Accuracy')\n",
    "x_axis = ax[0].set_xlabel('No. of Epochs')\n",
    "y_axis = ax[0].set_ylabel('Accuracy')\n",
    "ax[0].legend()\n",
    "\n",
    "ax[1].plot(mlp2056.index+1,mlp2056['train loss'],label='Train Loss')\n",
    "ax[1].plot(mlp2056.index+1,mlp2056['val loss'],label='Val Loss')\n",
    "x_axis = ax[1].set_xlabel('No. of Epochs')\n",
    "y_axis = ax[1].set_ylabel('Loss')\n",
    "ax[1].legend()\n",
    "\n",
    "plt.show()"
   ]
  },
  {
   "cell_type": "markdown",
   "metadata": {},
   "source": [
    "<span style=\"color:#003366\"><b> Overfitting is clear in the best MLP model (2056 hidden units) with a stagnating val accuracy and loss and continually increasing train accuracy and decreasing train loss. Early stopping was used to stop model training if model performance fails to improve after a few epochs, preventing performance degradation due to training overfitted weights. Other regularization methods (L2 regularization, dropout layers, data augmentation) will be used in the CNN model in part 4 to reduce this overfitting."
   ]
  },
  {
   "cell_type": "code",
   "execution_count": 10,
   "metadata": {
    "scrolled": true
   },
   "outputs": [],
   "source": [
    "import pandas as pd\n",
    "from keras.models import load_model\n",
    "model1b = load_model('mlp/mlp_best.h5')\n",
    "\n",
    "pred = model1b.predict(x_test).argmax(axis=1)\n",
    "pd.DataFrame(pred).to_csv('mlp/pred.csv',index=False)"
   ]
  },
  {
   "cell_type": "code",
   "execution_count": 13,
   "metadata": {},
   "outputs": [
    {
     "name": "stdout",
     "output_type": "stream",
     "text": [
      "Average Accuracy:  0.5457\n",
      "\n"
     ]
    }
   ],
   "source": [
    "from sklearn.metrics import confusion_matrix\n",
    "from sklearn.metrics import accuracy_score\n",
    "\n",
    "print('Average Accuracy: ',accuracy_score(testset[b'labels'],pred))\n",
    "print()"
   ]
  },
  {
   "cell_type": "code",
   "execution_count": 14,
   "metadata": {},
   "outputs": [
    {
     "data": {
      "text/html": [
       "<div>\n",
       "<style scoped>\n",
       "    .dataframe tbody tr th:only-of-type {\n",
       "        vertical-align: middle;\n",
       "    }\n",
       "\n",
       "    .dataframe tbody tr th {\n",
       "        vertical-align: top;\n",
       "    }\n",
       "\n",
       "    .dataframe thead th {\n",
       "        text-align: right;\n",
       "    }\n",
       "</style>\n",
       "<table border=\"1\" class=\"dataframe\">\n",
       "  <thead>\n",
       "    <tr style=\"text-align: right;\">\n",
       "      <th></th>\n",
       "      <th>Accuracy</th>\n",
       "    </tr>\n",
       "  </thead>\n",
       "  <tbody>\n",
       "    <tr>\n",
       "      <th>0</th>\n",
       "      <td>58.3</td>\n",
       "    </tr>\n",
       "    <tr>\n",
       "      <th>1</th>\n",
       "      <td>69.0</td>\n",
       "    </tr>\n",
       "    <tr>\n",
       "      <th>2</th>\n",
       "      <td>44.3</td>\n",
       "    </tr>\n",
       "    <tr>\n",
       "      <th>3</th>\n",
       "      <td>39.7</td>\n",
       "    </tr>\n",
       "    <tr>\n",
       "      <th>4</th>\n",
       "      <td>48.2</td>\n",
       "    </tr>\n",
       "    <tr>\n",
       "      <th>5</th>\n",
       "      <td>45.5</td>\n",
       "    </tr>\n",
       "    <tr>\n",
       "      <th>6</th>\n",
       "      <td>54.5</td>\n",
       "    </tr>\n",
       "    <tr>\n",
       "      <th>7</th>\n",
       "      <td>61.3</td>\n",
       "    </tr>\n",
       "    <tr>\n",
       "      <th>8</th>\n",
       "      <td>69.7</td>\n",
       "    </tr>\n",
       "    <tr>\n",
       "      <th>9</th>\n",
       "      <td>55.2</td>\n",
       "    </tr>\n",
       "  </tbody>\n",
       "</table>\n",
       "</div>"
      ],
      "text/plain": [
       "   Accuracy\n",
       "0      58.3\n",
       "1      69.0\n",
       "2      44.3\n",
       "3      39.7\n",
       "4      48.2\n",
       "5      45.5\n",
       "6      54.5\n",
       "7      61.3\n",
       "8      69.7\n",
       "9      55.2"
      ]
     },
     "execution_count": 14,
     "metadata": {},
     "output_type": "execute_result"
    }
   ],
   "source": [
    "cm = confusion_matrix(testset[b'labels'], pred)\n",
    "pd.DataFrame(cm.diagonal()/[np.sum(np.array(testset[b'labels'])==i) for i in list(range(10))]*100,columns = ['Accuracy'])"
   ]
  },
  {
   "cell_type": "markdown",
   "metadata": {},
   "source": [
    "## PyTorch"
   ]
  },
  {
   "cell_type": "code",
   "execution_count": 1,
   "metadata": {},
   "outputs": [],
   "source": [
    "import torch\n",
    "import torch.utils.data as utils\n",
    "import torch.nn as nn\n",
    "import torch.nn.functional as F\n",
    "import torch.optim as optim\n",
    "torch.set_num_threads(1)"
   ]
  },
  {
   "cell_type": "code",
   "execution_count": 2,
   "metadata": {},
   "outputs": [],
   "source": [
    "import numpy as np\n",
    "import pickle\n",
    "def unpickle(file):\n",
    "    with open(file, 'rb') as fo:\n",
    "        dict = pickle.load(fo, encoding='bytes')\n",
    "    return dict\n",
    "\n",
    "batch1 = unpickle('cifar-10-batches-py/data_batch_1')\n",
    "batch2 = unpickle('cifar-10-batches-py/data_batch_2')\n",
    "batch3 = unpickle('cifar-10-batches-py/data_batch_3')\n",
    "batch4 = unpickle('cifar-10-batches-py/data_batch_4')\n",
    "batch5 = unpickle('cifar-10-batches-py/data_batch_5')\n",
    "\n",
    "train_val = np.concatenate([batch1[b'data'],batch2[b'data'],batch3[b'data'],batch4[b'data'],batch5[b'data']],axis=0)\n",
    "train_val_labels = batch1[b'labels']+batch2[b'labels']+batch3[b'labels']+batch4[b'labels']+batch5[b'labels']\n",
    "\n",
    "from sklearn.model_selection import train_test_split\n",
    "x_train, x_val, y_train, y_val = train_test_split(train_val, train_val_labels, test_size=0.2, random_state=42)\n",
    "\n",
    "testset = unpickle('cifar-10-batches-py/test_batch')\n",
    "x_test = testset[b'data']\n",
    "y_test = testset[b'labels']\n",
    "\n",
    "x_train = (x_train/255).astype('float32')\n",
    "x_val = (x_val/255).astype('float32')\n",
    "x_test = (x_test/255).astype('float32')"
   ]
  },
  {
   "cell_type": "code",
   "execution_count": 3,
   "metadata": {},
   "outputs": [],
   "source": [
    "y_test= np.array(y_test)\n",
    "y_val = np.array(y_val)\n",
    "y_train = np.array(y_train)\n",
    "\n",
    "tensor_xtrain = torch.stack([torch.Tensor(i) for i in x_train]) # transform to torch tensors\n",
    "tensor_ytrain = torch.LongTensor(y_train)\n",
    "tensor_xval = torch.stack([torch.Tensor(i) for i in x_val]) # transform to torch tensors\n",
    "tensor_yval = torch.LongTensor(y_val)\n",
    "tensor_xtest = torch.stack([torch.Tensor(i) for i in x_test]) # transform to torch tensors\n",
    "tensor_ytest = torch.LongTensor(y_test)\n",
    "\n",
    "trainset = utils.TensorDataset(tensor_xtrain,tensor_ytrain)\n",
    "valset = utils.TensorDataset(tensor_xval,tensor_yval)\n",
    "testset = utils.TensorDataset(tensor_xtest,tensor_ytest)"
   ]
  },
  {
   "cell_type": "code",
   "execution_count": 4,
   "metadata": {},
   "outputs": [],
   "source": [
    "batch_size =64\n",
    "\n",
    "train_loader = torch.utils.data.DataLoader(trainset,batch_size=batch_size,shuffle=True)\n",
    "validation_loader = torch.utils.data.DataLoader(valset,batch_size=batch_size,shuffle=True)\n",
    "test_loader = torch.utils.data.DataLoader(testset,batch_size=batch_size,shuffle=False)\n",
    "\n",
    "data_loaders = {\"train\": train_loader, \"val\": validation_loader}\n",
    "data_lengths = {\"train\": x_train.shape[0]/batch_size, \"val\": x_val.shape[0]/batch_size}"
   ]
  },
  {
   "cell_type": "code",
   "execution_count": 5,
   "metadata": {},
   "outputs": [],
   "source": [
    "class Net(nn.Module):\n",
    "    def __init__(self):\n",
    "        super(Net, self).__init__()\n",
    "        self.fc1 = nn.Linear(3072, 2056)\n",
    "        self.fc2 = nn.Linear(2056, 10)\n",
    "\n",
    "    def forward(self, x):\n",
    "        x = F.relu(self.fc1(x))\n",
    "        x = self.fc2(x)\n",
    "        return x\n",
    "\n",
    "net = Net()"
   ]
  },
  {
   "cell_type": "code",
   "execution_count": 9,
   "metadata": {
    "scrolled": true
   },
   "outputs": [
    {
     "name": "stdout",
     "output_type": "stream",
     "text": [
      "Epoch 1/30\n",
      "----------\n",
      "train Loss: 1.5686\n",
      "val Loss: 1.5909\n",
      "\n",
      "Epoch 2/30\n",
      "----------\n",
      "train Loss: 1.5209\n",
      "val Loss: 1.5716\n",
      "\n",
      "Epoch 3/30\n",
      "----------\n",
      "train Loss: 1.4813\n",
      "val Loss: 1.5442\n",
      "\n",
      "Epoch 4/30\n",
      "----------\n",
      "train Loss: 1.4496\n",
      "val Loss: 1.5215\n",
      "\n",
      "Epoch 5/30\n",
      "----------\n",
      "train Loss: 1.4238\n",
      "val Loss: 1.4820\n",
      "\n",
      "Epoch 6/30\n",
      "----------\n",
      "train Loss: 1.3271\n",
      "val Loss: 1.4094\n",
      "\n",
      "Epoch 7/30\n",
      "----------\n",
      "train Loss: 1.2958\n",
      "val Loss: 1.4115\n",
      "\n",
      "Epoch 8/30\n",
      "----------\n",
      "train Loss: 1.2716\n",
      "val Loss: 1.4050\n",
      "\n",
      "Epoch 9/30\n",
      "----------\n",
      "train Loss: 1.2470\n",
      "val Loss: 1.3978\n",
      "\n",
      "Epoch 10/30\n",
      "----------\n",
      "train Loss: 1.2298\n",
      "val Loss: 1.4162\n",
      "\n",
      "Epoch 11/30\n",
      "----------\n",
      "train Loss: 1.1579\n",
      "val Loss: 1.3748\n",
      "\n",
      "Epoch 12/30\n",
      "----------\n",
      "train Loss: 1.1356\n",
      "val Loss: 1.3591\n",
      "\n",
      "Epoch 13/30\n",
      "----------\n",
      "train Loss: 1.1202\n",
      "val Loss: 1.3480\n",
      "\n",
      "Epoch 14/30\n",
      "----------\n",
      "train Loss: 1.1074\n",
      "val Loss: 1.3717\n",
      "\n",
      "Epoch 15/30\n",
      "----------\n",
      "train Loss: 1.0925\n",
      "val Loss: 1.3498\n",
      "\n",
      "Epoch 16/30\n",
      "----------\n",
      "train Loss: 1.0461\n",
      "val Loss: 1.3420\n",
      "\n",
      "Epoch 17/30\n",
      "----------\n",
      "train Loss: 1.0359\n",
      "val Loss: 1.3436\n",
      "\n",
      "Epoch 18/30\n",
      "----------\n",
      "train Loss: 1.0263\n",
      "val Loss: 1.3372\n",
      "\n",
      "Epoch 19/30\n",
      "----------\n",
      "train Loss: 1.0172\n",
      "val Loss: 1.3270\n",
      "\n",
      "Epoch 20/30\n",
      "----------\n",
      "train Loss: 1.0082\n",
      "val Loss: 1.3272\n",
      "\n",
      "Epoch 21/30\n",
      "----------\n",
      "train Loss: 0.9786\n",
      "val Loss: 1.3219\n",
      "\n",
      "Epoch 22/30\n",
      "----------\n",
      "train Loss: 0.9734\n",
      "val Loss: 1.3203\n",
      "\n",
      "Epoch 23/30\n",
      "----------\n",
      "train Loss: 0.9675\n",
      "val Loss: 1.3182\n",
      "\n",
      "Epoch 24/30\n",
      "----------\n",
      "train Loss: 0.9624\n",
      "val Loss: 1.3196\n",
      "\n",
      "Epoch 25/30\n",
      "----------\n",
      "train Loss: 0.9576\n",
      "val Loss: 1.3210\n",
      "\n",
      "Epoch 26/30\n",
      "----------\n",
      "train Loss: 0.9410\n",
      "val Loss: 1.3183\n",
      "\n",
      "Epoch 27/30\n",
      "----------\n",
      "train Loss: 0.9366\n",
      "val Loss: 1.3154\n",
      "\n",
      "Epoch 28/30\n",
      "----------\n",
      "train Loss: 0.9347\n",
      "val Loss: 1.3133\n",
      "\n",
      "Epoch 29/30\n",
      "----------\n",
      "train Loss: 0.9318\n",
      "val Loss: 1.3151\n",
      "\n",
      "Epoch 30/30\n",
      "----------\n",
      "train Loss: 0.9297\n",
      "val Loss: 1.3132\n",
      "\n",
      "\n",
      "Finished Training\n"
     ]
    }
   ],
   "source": [
    "n_epochs=30\n",
    "lrate = 0.01\n",
    "patience = 5\n",
    "\n",
    "criterion = nn.CrossEntropyLoss()\n",
    "early_stop = [np.Inf]*5\n",
    "train_loss,val_loss = [], []\n",
    "\n",
    "early_stop = [np.Inf]*patience\n",
    "for epoch in range(n_epochs):  # loop over the dataset multiple times\n",
    "    print('Epoch {}/{}'.format(epoch+1, n_epochs))\n",
    "    print('-' * 10)\n",
    "    if epoch !=0 and epoch%5 == 0: lrate = lrate*0.5 # learning rate schedule    \n",
    "    #lrate = lrate/(1+(5e-4*(epoch+1)*625))\n",
    "    \n",
    "    for phase in ['train', 'val']:\n",
    "        if phase == 'train':\n",
    "            optimizer = optim.SGD(net.parameters(), lr=lrate,weight_decay=0,momentum=0.9,nesterov=True)\n",
    "            #optimizer = optim.Adam(net.parameters(), lr=lrate, betas=(0.9, 0.999), eps=1e-08, weight_decay=5e-4)\n",
    "            net.train(True)  # Set model to training mode\n",
    "        else:\n",
    "            net.train(False)    \n",
    "    \n",
    "        running_loss = 0.0\n",
    "        \n",
    "        for data in data_loaders[phase]:#iteration loop for each minibatch\n",
    "            # get the inputs\n",
    "            inputs, labels = data\n",
    "\n",
    "            # zero the parameter gradients to accumulate again using loss.backward() in every iteration\n",
    "            optimizer.zero_grad()\n",
    "\n",
    "            # forward + backward + optimize\n",
    "            outputs = net(inputs) # forward\n",
    "            loss = criterion(outputs, labels) #get loss \n",
    "            \n",
    "            if phase == 'train':\n",
    "                loss.backward() #backpropagation\n",
    "                optimizer.step()  #update parameters\n",
    "\n",
    "            # print statistics\n",
    "            running_loss += loss.item()\n",
    "        \n",
    "        \n",
    "        epoch_loss = running_loss / data_lengths[phase]\n",
    "        print('{} Loss: {:.4f}'.format(phase, epoch_loss))\n",
    "        if phase == 'train': train_loss.append(epoch_loss)\n",
    "        if phase == 'val': val_loss.append(epoch_loss)\n",
    "        \n",
    "    print()\n",
    "          \n",
    "    if phase == 'val': #early stopping block        \n",
    "        if len(early_stop) == patience: del early_stop[0]        \n",
    "        early_stop.append(running_loss)\n",
    "        if min(early_stop) == early_stop[0] : break      \n",
    "\n",
    "print('\\nFinished Training')"
   ]
  },
  {
   "cell_type": "code",
   "execution_count": 10,
   "metadata": {
    "scrolled": true
   },
   "outputs": [
    {
     "name": "stdout",
     "output_type": "stream",
     "text": [
      "Accuracy of the network on the 10000 test images: 54.65 %\n",
      "Loss of the network on the 10000 test images: 1.14\n"
     ]
    }
   ],
   "source": [
    "correct = 0\n",
    "total = 0\n",
    "pred = []\n",
    "with torch.no_grad(): #temporarily set all the requires_grad flag to false.\n",
    "    for data in test_loader:\n",
    "        images, labels = data\n",
    "        outputs = net(images)\n",
    "        _, predicted = torch.max(outputs.data, 1)\n",
    "        total += labels.size(0)\n",
    "        correct += (predicted == labels).sum().item()\n",
    "        pred.append(predicted)\n",
    "\n",
    "print('Accuracy of the network on the 10000 test images: %.2f %%' % (100 * correct / total))\n",
    "print('Loss of the network on the 10000 test images: %.2f' % (criterion(outputs, labels)))"
   ]
  },
  {
   "cell_type": "code",
   "execution_count": 14,
   "metadata": {},
   "outputs": [
    {
     "data": {
      "image/png": "[encoded data removed]",
      "text/plain": [
       "<Figure size 576x432 with 1 Axes>"
      ]
     },
     "metadata": {
      "needs_background": "light"
     },
     "output_type": "display_data"
    }
   ],
   "source": [
    "import matplotlib.pyplot as plt\n",
    "f, ax = plt.subplots(figsize=(8, 6))\n",
    "plt.plot(list(range(1,len(train_loss)+1)),train_loss,label='Train Loss')\n",
    "plt.plot(list(range(1,len(val_loss)+1)),val_loss,label='Val Loss')\n",
    "ax.set_title('Train/Val Loss Vs No. of Epochs')\n",
    "x_axis = plt.xlabel('No. of Epochs')\n",
    "y_axis = plt.ylabel('Train/Val Loss')\n",
    "plt.legend()\n",
    "plt.show() "
   ]
  },
  {
   "cell_type": "code",
   "execution_count": null,
   "metadata": {},
   "outputs": [],
   "source": []
  },
  {
   "cell_type": "code",
   "execution_count": null,
   "metadata": {},
   "outputs": [],
   "source": []
  },
  {
   "cell_type": "code",
   "execution_count": null,
   "metadata": {},
   "outputs": [],
   "source": []
  },
  {
   "cell_type": "code",
   "execution_count": null,
   "metadata": {},
   "outputs": [],
   "source": []
  }
 ],
 "metadata": {
  "kernelspec": {
   "display_name": "Python 3",
   "language": "python",
   "name": "python3"
  },
  "language_info": {
   "codemirror_mode": {
    "name": "ipython",
    "version": 3
   },
   "file_extension": ".py",
   "mimetype": "text/x-python",
   "name": "python",
   "nbconvert_exporter": "python",
   "pygments_lexer": "ipython3",
   "version": "3.6.1"
  }
 },
 "nbformat": 4,
 "nbformat_minor": 2
}
